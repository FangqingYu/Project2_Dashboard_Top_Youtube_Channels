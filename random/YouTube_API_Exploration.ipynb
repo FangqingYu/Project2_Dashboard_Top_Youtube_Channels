{
 "cells": [
  {
   "cell_type": "code",
   "execution_count": 1,
   "metadata": {},
   "outputs": [],
   "source": [
    "from config import YouTube_KEY\n",
    "from datetime import datetime"
   ]
  },
  {
   "cell_type": "code",
   "execution_count": 2,
   "metadata": {},
   "outputs": [],
   "source": [
    "from apiclient.discovery import build"
   ]
  },
  {
   "cell_type": "code",
   "execution_count": 3,
   "metadata": {},
   "outputs": [],
   "source": [
    "youtube = build(\"youtube\", \"v3\", developerKey=YouTube_KEY)"
   ]
  },
  {
   "cell_type": "code",
   "execution_count": null,
   "metadata": {},
   "outputs": [],
   "source": []
  },
  {
   "cell_type": "code",
   "execution_count": 4,
   "metadata": {},
   "outputs": [],
   "source": [
    "# Get channel info\n",
    "res = youtube.search().list(part='snippet', \n",
    "                            q='5-Minute Crafts',\n",
    "                            type='channel').execute()"
   ]
  },
  {
   "cell_type": "code",
   "execution_count": 5,
   "metadata": {},
   "outputs": [
    {
     "data": {
      "text/plain": [
       "{'kind': 'youtube#searchListResponse',\n",
       " 'etag': '\"XpPGQXPnxQJhLgs6enD_n8JR4Qk/OCRTTmTYs1xQ1FWI2HUdJ94xRNU\"',\n",
       " 'nextPageToken': 'CAUQAA',\n",
       " 'regionCode': 'US',\n",
       " 'pageInfo': {'totalResults': 18866, 'resultsPerPage': 5},\n",
       " 'items': [{'kind': 'youtube#searchResult',\n",
       "   'etag': '\"XpPGQXPnxQJhLgs6enD_n8JR4Qk/5k1FQc_GdXdRvfK9OZW0ITEfOv0\"',\n",
       "   'id': {'kind': 'youtube#channel', 'channelId': 'UC295-Dw_tDNtZXFeAPAW6Aw'},\n",
       "   'snippet': {'publishedAt': '2016-11-15T09:25:37.000Z',\n",
       "    'channelId': 'UC295-Dw_tDNtZXFeAPAW6Aw',\n",
       "    'title': '5-Minute Crafts',\n",
       "    'description': 'Fun diy-projects, crafts, experience the joy of doing it yourself! OFFICIAL CHANNEL.',\n",
       "    'thumbnails': {'default': {'url': 'https://yt3.ggpht.com/-xIpCEoEWz-U/AAAAAAAAAAI/AAAAAAAAAAA/583J6o-KtGc/s88-c-k-no-mo-rj-c0xffffff/photo.jpg'},\n",
       "     'medium': {'url': 'https://yt3.ggpht.com/-xIpCEoEWz-U/AAAAAAAAAAI/AAAAAAAAAAA/583J6o-KtGc/s240-c-k-no-mo-rj-c0xffffff/photo.jpg'},\n",
       "     'high': {'url': 'https://yt3.ggpht.com/-xIpCEoEWz-U/AAAAAAAAAAI/AAAAAAAAAAA/583J6o-KtGc/s800-c-k-no-mo-rj-c0xffffff/photo.jpg'}},\n",
       "    'channelTitle': '5-Minute Crafts',\n",
       "    'liveBroadcastContent': 'upcoming'}},\n",
       "  {'kind': 'youtube#searchResult',\n",
       "   'etag': '\"XpPGQXPnxQJhLgs6enD_n8JR4Qk/ew84OQvjuSLkeO0rsId2WIKc8VU\"',\n",
       "   'id': {'kind': 'youtube#channel', 'channelId': 'UC2etEuPIfohP4P53wM0KImA'},\n",
       "   'snippet': {'publishedAt': '2018-01-18T08:58:56.000Z',\n",
       "    'channelId': 'UC2etEuPIfohP4P53wM0KImA',\n",
       "    'title': '5-Minute Crafts GIRLY',\n",
       "    'description': 'Fun diy-projects, crafts, experience the joy of doing it yourself! OFFICIAL CHANNEL.',\n",
       "    'thumbnails': {'default': {'url': 'https://yt3.ggpht.com/-CjSVbxtYcuU/AAAAAAAAAAI/AAAAAAAAAAA/-m3lm3X9Y-k/s88-c-k-no-mo-rj-c0xffffff/photo.jpg'},\n",
       "     'medium': {'url': 'https://yt3.ggpht.com/-CjSVbxtYcuU/AAAAAAAAAAI/AAAAAAAAAAA/-m3lm3X9Y-k/s240-c-k-no-mo-rj-c0xffffff/photo.jpg'},\n",
       "     'high': {'url': 'https://yt3.ggpht.com/-CjSVbxtYcuU/AAAAAAAAAAI/AAAAAAAAAAA/-m3lm3X9Y-k/s800-c-k-no-mo-rj-c0xffffff/photo.jpg'}},\n",
       "    'channelTitle': '5-Minute Crafts GIRLY',\n",
       "    'liveBroadcastContent': 'upcoming'}},\n",
       "  {'kind': 'youtube#searchResult',\n",
       "   'etag': '\"XpPGQXPnxQJhLgs6enD_n8JR4Qk/ows-j6u3Xvj7giIyweN1G78R-zw\"',\n",
       "   'id': {'kind': 'youtube#channel', 'channelId': 'UC57XAjJ04TY8gNxOWf-Sy0Q'},\n",
       "   'snippet': {'publishedAt': '2017-10-30T13:03:19.000Z',\n",
       "    'channelId': 'UC57XAjJ04TY8gNxOWf-Sy0Q',\n",
       "    'title': '5-Minute Crafts KIDS',\n",
       "    'description': 'Fun diy-projects, crafts, experience the joy of doing it yourself! OFFICIAL CHANNEL.',\n",
       "    'thumbnails': {'default': {'url': 'https://yt3.ggpht.com/-qNT8lL8VGw4/AAAAAAAAAAI/AAAAAAAAAAA/DMmXci1YJ5U/s88-c-k-no-mo-rj-c0xffffff/photo.jpg'},\n",
       "     'medium': {'url': 'https://yt3.ggpht.com/-qNT8lL8VGw4/AAAAAAAAAAI/AAAAAAAAAAA/DMmXci1YJ5U/s240-c-k-no-mo-rj-c0xffffff/photo.jpg'},\n",
       "     'high': {'url': 'https://yt3.ggpht.com/-qNT8lL8VGw4/AAAAAAAAAAI/AAAAAAAAAAA/DMmXci1YJ5U/s800-c-k-no-mo-rj-c0xffffff/photo.jpg'}},\n",
       "    'channelTitle': '5-Minute Crafts KIDS',\n",
       "    'liveBroadcastContent': 'upcoming'}},\n",
       "  {'kind': 'youtube#searchResult',\n",
       "   'etag': '\"XpPGQXPnxQJhLgs6enD_n8JR4Qk/FXuEKlVIGzNumFdWR0CMSYsgSS0\"',\n",
       "   'id': {'kind': 'youtube#channel', 'channelId': 'UC1SaV8cJ5u5U9iEZS6QRbpg'},\n",
       "   'snippet': {'publishedAt': '2019-02-01T09:34:19.000Z',\n",
       "    'channelId': 'UC1SaV8cJ5u5U9iEZS6QRbpg',\n",
       "    'title': '5-Minute Crafts TEENS',\n",
       "    'description': '',\n",
       "    'thumbnails': {'default': {'url': 'https://yt3.ggpht.com/-OWbzh2XiEdg/AAAAAAAAAAI/AAAAAAAAAAA/TXJ-9OMy4Wg/s88-c-k-no-mo-rj-c0xffffff/photo.jpg'},\n",
       "     'medium': {'url': 'https://yt3.ggpht.com/-OWbzh2XiEdg/AAAAAAAAAAI/AAAAAAAAAAA/TXJ-9OMy4Wg/s240-c-k-no-mo-rj-c0xffffff/photo.jpg'},\n",
       "     'high': {'url': 'https://yt3.ggpht.com/-OWbzh2XiEdg/AAAAAAAAAAI/AAAAAAAAAAA/TXJ-9OMy4Wg/s800-c-k-no-mo-rj-c0xffffff/photo.jpg'}},\n",
       "    'channelTitle': '5-Minute Crafts TEENS',\n",
       "    'liveBroadcastContent': 'none'}},\n",
       "  {'kind': 'youtube#searchResult',\n",
       "   'etag': '\"XpPGQXPnxQJhLgs6enD_n8JR4Qk/lvH8j3Sqn2tXfRAE462VM_beSvQ\"',\n",
       "   'id': {'kind': 'youtube#channel', 'channelId': 'UC99JadZaqowmJR2z6syIZyw'},\n",
       "   'snippet': {'publishedAt': '2018-05-04T09:41:42.000Z',\n",
       "    'channelId': 'UC99JadZaqowmJR2z6syIZyw',\n",
       "    'title': '5 मिनट शिल्',\n",
       "    'description': '5-minute crafts© (indian) खुद करने वाले मज़ेदार प्रोजेक्ट्स, क्राफ्ट्स, खुद करके ख़ुशी का...',\n",
       "    'thumbnails': {'default': {'url': 'https://yt3.ggpht.com/-mgFAujAy3O8/AAAAAAAAAAI/AAAAAAAAAAA/OyZfKdFE4l4/s88-c-k-no-mo-rj-c0xffffff/photo.jpg'},\n",
       "     'medium': {'url': 'https://yt3.ggpht.com/-mgFAujAy3O8/AAAAAAAAAAI/AAAAAAAAAAA/OyZfKdFE4l4/s240-c-k-no-mo-rj-c0xffffff/photo.jpg'},\n",
       "     'high': {'url': 'https://yt3.ggpht.com/-mgFAujAy3O8/AAAAAAAAAAI/AAAAAAAAAAA/OyZfKdFE4l4/s800-c-k-no-mo-rj-c0xffffff/photo.jpg'}},\n",
       "    'channelTitle': '5 मिनट शिल्',\n",
       "    'liveBroadcastContent': 'none'}}]}"
      ]
     },
     "execution_count": 5,
     "metadata": {},
     "output_type": "execute_result"
    }
   ],
   "source": [
    "res"
   ]
  },
  {
   "cell_type": "code",
   "execution_count": 6,
   "metadata": {},
   "outputs": [
    {
     "data": {
      "text/plain": [
       "'UC295-Dw_tDNtZXFeAPAW6Aw'"
      ]
     },
     "execution_count": 6,
     "metadata": {},
     "output_type": "execute_result"
    }
   ],
   "source": [
    "# Channel ID\n",
    "channelID = res['items'][0]['snippet']['channelId']\n",
    "channelID"
   ]
  },
  {
   "cell_type": "code",
   "execution_count": 12,
   "metadata": {},
   "outputs": [
    {
     "data": {
      "text/plain": [
       "'Fun diy-projects, crafts, experience the joy of doing it yourself! OFFICIAL CHANNEL.'"
      ]
     },
     "execution_count": 12,
     "metadata": {},
     "output_type": "execute_result"
    }
   ],
   "source": [
    "# Channel description\n",
    "res['items'][0]['snippet']['description']"
   ]
  },
  {
   "cell_type": "code",
   "execution_count": 13,
   "metadata": {},
   "outputs": [
    {
     "data": {
      "text/plain": [
       "'https://yt3.ggpht.com/-xIpCEoEWz-U/AAAAAAAAAAI/AAAAAAAAAAA/583J6o-KtGc/s240-c-k-no-mo-rj-c0xffffff/photo.jpg'"
      ]
     },
     "execution_count": 13,
     "metadata": {},
     "output_type": "execute_result"
    }
   ],
   "source": [
    "# Channel profile pic URL\n",
    "res['items'][0]['snippet']['thumbnails']['medium']['url']"
   ]
  },
  {
   "cell_type": "code",
   "execution_count": 35,
   "metadata": {},
   "outputs": [
    {
     "data": {
      "text/plain": [
       "{'kind': 'youtube#channelListResponse',\n",
       " 'etag': '\"XpPGQXPnxQJhLgs6enD_n8JR4Qk/PGCzPHZ6uaW3R6vNl_Lyigk9N5Q\"',\n",
       " 'pageInfo': {'totalResults': 1, 'resultsPerPage': 1},\n",
       " 'items': [{'kind': 'youtube#channel',\n",
       "   'etag': '\"XpPGQXPnxQJhLgs6enD_n8JR4Qk/l_7v5U8AXls5HgPUBmqMsMoYPLQ\"',\n",
       "   'id': 'UC295-Dw_tDNtZXFeAPAW6Aw',\n",
       "   'snippet': {'title': '5-Minute Crafts',\n",
       "    'description': 'Fun diy-projects, crafts, experience the joy of doing it yourself!\\nOFFICIAL CHANNEL.',\n",
       "    'publishedAt': '2016-11-15T09:25:37.000Z',\n",
       "    'thumbnails': {'default': {'url': 'https://yt3.ggpht.com/a-/AAuE7mDjtp5FjhtHhnIlpaL0UKc0zKLflRngZgLxAQ=s88-mo-c-c0xffffffff-rj-k-no',\n",
       "      'width': 88,\n",
       "      'height': 88},\n",
       "     'medium': {'url': 'https://yt3.ggpht.com/a-/AAuE7mDjtp5FjhtHhnIlpaL0UKc0zKLflRngZgLxAQ=s240-mo-c-c0xffffffff-rj-k-no',\n",
       "      'width': 240,\n",
       "      'height': 240},\n",
       "     'high': {'url': 'https://yt3.ggpht.com/a-/AAuE7mDjtp5FjhtHhnIlpaL0UKc0zKLflRngZgLxAQ=s800-mo-c-c0xffffffff-rj-k-no',\n",
       "      'width': 800,\n",
       "      'height': 800}},\n",
       "    'localized': {'title': '5-Minute Crafts',\n",
       "     'description': 'Fun diy-projects, crafts, experience the joy of doing it yourself!\\nOFFICIAL CHANNEL.'},\n",
       "    'country': 'US'}}]}"
      ]
     },
     "execution_count": 35,
     "metadata": {},
     "output_type": "execute_result"
    }
   ],
   "source": [
    "# Get channel country & published date\n",
    "res = youtube.channels().list(id=channelID,\n",
    "                              part='snippet').execute()\n",
    "res"
   ]
  },
  {
   "cell_type": "code",
   "execution_count": 31,
   "metadata": {},
   "outputs": [
    {
     "data": {
      "text/plain": [
       "{'title': '5-Minute Crafts',\n",
       " 'description': 'Fun diy-projects, crafts, experience the joy of doing it yourself!\\nOFFICIAL CHANNEL.',\n",
       " 'publishedAt': '2016-11-15T09:25:37.000Z',\n",
       " 'thumbnails': {'default': {'url': 'https://yt3.ggpht.com/a-/AAuE7mDjtp5FjhtHhnIlpaL0UKc0zKLflRngZgLxAQ=s88-mo-c-c0xffffffff-rj-k-no',\n",
       "   'width': 88,\n",
       "   'height': 88},\n",
       "  'medium': {'url': 'https://yt3.ggpht.com/a-/AAuE7mDjtp5FjhtHhnIlpaL0UKc0zKLflRngZgLxAQ=s240-mo-c-c0xffffffff-rj-k-no',\n",
       "   'width': 240,\n",
       "   'height': 240},\n",
       "  'high': {'url': 'https://yt3.ggpht.com/a-/AAuE7mDjtp5FjhtHhnIlpaL0UKc0zKLflRngZgLxAQ=s800-mo-c-c0xffffffff-rj-k-no',\n",
       "   'width': 800,\n",
       "   'height': 800}},\n",
       " 'localized': {'title': '5-Minute Crafts',\n",
       "  'description': 'Fun diy-projects, crafts, experience the joy of doing it yourself!\\nOFFICIAL CHANNEL.'},\n",
       " 'country': 'US'}"
      ]
     },
     "execution_count": 31,
     "metadata": {},
     "output_type": "execute_result"
    }
   ],
   "source": [
    "res['items'][0]['snippet']"
   ]
  },
  {
   "cell_type": "code",
   "execution_count": 33,
   "metadata": {},
   "outputs": [
    {
     "data": {
      "text/plain": [
       "'2016-11-15T09:25:37.000Z'"
      ]
     },
     "execution_count": 33,
     "metadata": {},
     "output_type": "execute_result"
    }
   ],
   "source": [
    "publishedAt = res['items'][0]['snippet']['publishedAt']\n",
    "publishedAt"
   ]
  },
  {
   "cell_type": "code",
   "execution_count": 36,
   "metadata": {},
   "outputs": [],
   "source": [
    "import dateutil.parser as parser"
   ]
  },
  {
   "cell_type": "code",
   "execution_count": 38,
   "metadata": {},
   "outputs": [
    {
     "name": "stdout",
     "output_type": "stream",
     "text": [
      "year: 2016, month: 11, day: 15\n"
     ]
    }
   ],
   "source": [
    "year = parser.parse(res['items'][0]['snippet']['publishedAt']).year \n",
    "month = parser.parse(res['items'][0]['snippet']['publishedAt']).month\n",
    "day = parser.parse(res['items'][0]['snippet']['publishedAt']).day\n",
    "\n",
    "print(f\"year: {year}, month: {month}, day: {day}\")"
   ]
  },
  {
   "cell_type": "code",
   "execution_count": 40,
   "metadata": {},
   "outputs": [
    {
     "data": {
      "text/plain": [
       "'US'"
      ]
     },
     "execution_count": 40,
     "metadata": {},
     "output_type": "execute_result"
    }
   ],
   "source": [
    "country = res['items'][0]['snippet']['country']\n",
    "country"
   ]
  },
  {
   "cell_type": "code",
   "execution_count": null,
   "metadata": {},
   "outputs": [],
   "source": []
  },
  {
   "cell_type": "code",
   "execution_count": null,
   "metadata": {},
   "outputs": [],
   "source": []
  },
  {
   "cell_type": "code",
   "execution_count": 41,
   "metadata": {},
   "outputs": [],
   "source": [
    "# Get Channel statistics (view count, subscriber count, videoCount)\n",
    "\n",
    "res = youtube.channels().list(id=channelID,\n",
    "                              part='statistics').execute()\n"
   ]
  },
  {
   "cell_type": "code",
   "execution_count": 42,
   "metadata": {},
   "outputs": [
    {
     "data": {
      "text/plain": [
       "{'kind': 'youtube#channelListResponse',\n",
       " 'etag': '\"XpPGQXPnxQJhLgs6enD_n8JR4Qk/NSBpSxfW0SYtkcXsHmYl5L-dBic\"',\n",
       " 'pageInfo': {'totalResults': 1, 'resultsPerPage': 1},\n",
       " 'items': [{'kind': 'youtube#channel',\n",
       "   'etag': '\"XpPGQXPnxQJhLgs6enD_n8JR4Qk/nIO370zFxENgUTEXx8d9r0IC-MM\"',\n",
       "   'id': 'UC295-Dw_tDNtZXFeAPAW6Aw',\n",
       "   'statistics': {'viewCount': '12247105313',\n",
       "    'commentCount': '0',\n",
       "    'subscriberCount': '49557984',\n",
       "    'hiddenSubscriberCount': False,\n",
       "    'videoCount': '2717'}}]}"
      ]
     },
     "execution_count": 42,
     "metadata": {},
     "output_type": "execute_result"
    }
   ],
   "source": [
    "res"
   ]
  },
  {
   "cell_type": "code",
   "execution_count": 48,
   "metadata": {},
   "outputs": [
    {
     "data": {
      "text/plain": [
       "{'viewCount': '12247105313',\n",
       " 'commentCount': '0',\n",
       " 'subscriberCount': '49557984',\n",
       " 'hiddenSubscriberCount': False,\n",
       " 'videoCount': '2717'}"
      ]
     },
     "execution_count": 48,
     "metadata": {},
     "output_type": "execute_result"
    }
   ],
   "source": [
    "channel_stats = res['items'][0]['statistics']\n",
    "channel_stats"
   ]
  },
  {
   "cell_type": "code",
   "execution_count": 49,
   "metadata": {},
   "outputs": [
    {
     "data": {
      "text/plain": [
       "{'kind': 'youtube#channelListResponse',\n",
       " 'etag': '\"XpPGQXPnxQJhLgs6enD_n8JR4Qk/2Bqu2Ko5E2DitmPeo7xCaMS5b68\"',\n",
       " 'pageInfo': {'totalResults': 1, 'resultsPerPage': 1},\n",
       " 'items': [{'kind': 'youtube#channel',\n",
       "   'etag': '\"XpPGQXPnxQJhLgs6enD_n8JR4Qk/Y9MP6V1wcNP4c7ofQM38b59f5BI\"',\n",
       "   'id': 'UC295-Dw_tDNtZXFeAPAW6Aw',\n",
       "   'topicDetails': {'topicIds': ['/m/03glg', '/m/019_rr'],\n",
       "    'topicCategories': ['https://en.wikipedia.org/wiki/Hobby',\n",
       "     'https://en.wikipedia.org/wiki/Lifestyle_(sociology)']}}]}"
      ]
     },
     "execution_count": 49,
     "metadata": {},
     "output_type": "execute_result"
    }
   ],
   "source": [
    "# Channel Topic detail\n",
    "res = youtube.channels().list(id=channelID,\n",
    "                              part='topicDetails').execute()\n",
    "res"
   ]
  },
  {
   "cell_type": "code",
   "execution_count": 51,
   "metadata": {},
   "outputs": [],
   "source": [
    "# Banner Image\n",
    "res = youtube.channels().list(id=channelID,\n",
    "                              part=\"brandingSettings\").execute()"
   ]
  },
  {
   "cell_type": "code",
   "execution_count": 63,
   "metadata": {},
   "outputs": [
    {
     "data": {
      "text/plain": [
       "'https://yt3.ggpht.com/CTGN_jASBWV_U8nm0u_VJreGs5KIrA4E-NArFiAt1CAwtzGzakPoYE2SrzpPlLulQKDaaWZHoA=w1060-fcrop64=1,00005a57ffffa5a8-nd-c0xffffffff-rj-k-no'"
      ]
     },
     "execution_count": 63,
     "metadata": {},
     "output_type": "execute_result"
    }
   ],
   "source": [
    "res[\"items\"][0]['brandingSettings']['image']['bannerImageUrl']"
   ]
  },
  {
   "cell_type": "code",
   "execution_count": null,
   "metadata": {},
   "outputs": [],
   "source": []
  },
  {
   "cell_type": "code",
   "execution_count": null,
   "metadata": {},
   "outputs": [],
   "source": []
  },
  {
   "cell_type": "code",
   "execution_count": null,
   "metadata": {},
   "outputs": [],
   "source": [
    "# Get ALL videos from Channel"
   ]
  },
  {
   "cell_type": "code",
   "execution_count": 22,
   "metadata": {},
   "outputs": [],
   "source": [
    "res = youtube.channels().list(id=channelID,\n",
    "                        part='contentDetails').execute()"
   ]
  },
  {
   "cell_type": "code",
   "execution_count": 23,
   "metadata": {},
   "outputs": [
    {
     "data": {
      "text/plain": [
       "{'kind': 'youtube#channelListResponse',\n",
       " 'etag': '\"XpPGQXPnxQJhLgs6enD_n8JR4Qk/erN3_si3DPn4KdRWMcl7NSJktC8\"',\n",
       " 'pageInfo': {'totalResults': 1, 'resultsPerPage': 1},\n",
       " 'items': [{'kind': 'youtube#channel',\n",
       "   'etag': '\"XpPGQXPnxQJhLgs6enD_n8JR4Qk/IfXXEeoLG5uzrGcRy6lUGkvp4LQ\"',\n",
       "   'id': 'UC295-Dw_tDNtZXFeAPAW6Aw',\n",
       "   'contentDetails': {'relatedPlaylists': {'likes': 'LL295-Dw_tDNtZXFeAPAW6Aw',\n",
       "     'uploads': 'UU295-Dw_tDNtZXFeAPAW6Aw',\n",
       "     'watchHistory': 'HL',\n",
       "     'watchLater': 'WL'}}}]}"
      ]
     },
     "execution_count": 23,
     "metadata": {},
     "output_type": "execute_result"
    }
   ],
   "source": [
    "res"
   ]
  },
  {
   "cell_type": "code",
   "execution_count": 24,
   "metadata": {},
   "outputs": [
    {
     "data": {
      "text/plain": [
       "'UU295-Dw_tDNtZXFeAPAW6Aw'"
      ]
     },
     "execution_count": 24,
     "metadata": {},
     "output_type": "execute_result"
    }
   ],
   "source": [
    "uploadID = res['items'][0]['contentDetails']['relatedPlaylists']['uploads']\n",
    "uploadID"
   ]
  },
  {
   "cell_type": "code",
   "execution_count": 25,
   "metadata": {},
   "outputs": [
    {
     "data": {
      "text/plain": [
       "2733"
      ]
     },
     "execution_count": 25,
     "metadata": {},
     "output_type": "execute_result"
    }
   ],
   "source": [
    "num = youtube.playlistItems().list(playlistId=uploadID,\n",
    "                                  part='snippet').execute()\n",
    "total_videos = num['pageInfo']['totalResults']\n",
    "total_videos"
   ]
  },
  {
   "cell_type": "code",
   "execution_count": 26,
   "metadata": {},
   "outputs": [],
   "source": [
    "# Get DESCRIPTION (Date & Description) on ALL videos from a channel from \"Uploads\"\n",
    "def get_channel_videos(channel_id):\n",
    "    \n",
    "    # get Uploads playlist id\n",
    "    res = youtube.channels().list(id=channel_id, \n",
    "                                  part='contentDetails').execute()\n",
    "    playlist_id = res['items'][0]['contentDetails']['relatedPlaylists']['uploads']\n",
    "    \n",
    "    videos = []\n",
    "    next_page_token = None\n",
    "    \n",
    "    while 1:\n",
    "        res = youtube.playlistItems().list(playlistId=playlist_id, \n",
    "                                           part='snippet', \n",
    "                                           maxResults=50,\n",
    "                                           pageToken=next_page_token).execute()\n",
    "        videos += res['items']\n",
    "        next_page_token = res.get('nextPageToken')\n",
    "        \n",
    "        if next_page_token is None:\n",
    "            break\n",
    "    \n",
    "    return videos"
   ]
  },
  {
   "cell_type": "code",
   "execution_count": 27,
   "metadata": {},
   "outputs": [],
   "source": [
    "# pass in channel ID\n",
    "videos = get_channel_videos(channelID)"
   ]
  },
  {
   "cell_type": "code",
   "execution_count": 28,
   "metadata": {},
   "outputs": [
    {
     "data": {
      "text/plain": [
       "{'kind': 'youtube#playlistItem',\n",
       " 'etag': '\"XpPGQXPnxQJhLgs6enD_n8JR4Qk/LSRxHpPz6VSCWmo4BCICDMi4O58\"',\n",
       " 'id': 'VVUyOTUtRHdfdEROdFpYRmVBUEFXNkF3LjNsMTB3WURscTkw',\n",
       " 'snippet': {'publishedAt': '2019-02-16T17:49:20.000Z',\n",
       "  'channelId': 'UC295-Dw_tDNtZXFeAPAW6Aw',\n",
       "  'title': '99 GREAT IDEAS FOR A PARTY',\n",
       "  'description': 'Best ideas for splendid reunion with your friend! \\nEveryone will be happy! 🎉\\n\\nMusic by Epidemic Sound: https://www.epidemicsound.com/.\\n\\n\\n\\n---------------------------------------------------------------------------------------- \\n\\nOur Social Media: \\nFacebook: https://www.facebook.com/5min.crafts/ \\nInstagram: https://www.instagram.com/5.min.crafts/ \\nTwitter: https://twitter.com/5m_crafts \\n\\nSubscribe to 5-Minute MAGIC: http://bit.ly/2ldditZ \\nSubscribe to 5-Minute Crafts GIRLY: https://goo.gl/fWbJqz \\nSubscribe 5-Minute Crafts KIDS: https://goo.gl/PEuLVt \\nThe Bright Side of Youtube: https://goo.gl/rQTJZz \\n\\n---------------------------------------------------------------------------------------- \\n\\nFor more videos and articles visit: http://www.brightside.me/\\n\\n Music by Epidemic Sound: https://www.epidemicsound.com/',\n",
       "  'thumbnails': {'default': {'url': 'https://i.ytimg.com/vi/3l10wYDlq90/default.jpg',\n",
       "    'width': 120,\n",
       "    'height': 90},\n",
       "   'medium': {'url': 'https://i.ytimg.com/vi/3l10wYDlq90/mqdefault.jpg',\n",
       "    'width': 320,\n",
       "    'height': 180},\n",
       "   'high': {'url': 'https://i.ytimg.com/vi/3l10wYDlq90/hqdefault.jpg',\n",
       "    'width': 480,\n",
       "    'height': 360}},\n",
       "  'channelTitle': '5-Minute Crafts',\n",
       "  'playlistId': 'UU295-Dw_tDNtZXFeAPAW6Aw',\n",
       "  'position': 0,\n",
       "  'resourceId': {'kind': 'youtube#video', 'videoId': '3l10wYDlq90'}}}"
      ]
     },
     "execution_count": 28,
     "metadata": {},
     "output_type": "execute_result"
    }
   ],
   "source": [
    "videos[0]"
   ]
  },
  {
   "cell_type": "code",
   "execution_count": 29,
   "metadata": {},
   "outputs": [
    {
     "data": {
      "text/plain": [
       "2735"
      ]
     },
     "execution_count": 29,
     "metadata": {},
     "output_type": "execute_result"
    }
   ],
   "source": [
    "len(videos)"
   ]
  },
  {
   "cell_type": "code",
   "execution_count": null,
   "metadata": {},
   "outputs": [],
   "source": []
  },
  {
   "cell_type": "code",
   "execution_count": 32,
   "metadata": {},
   "outputs": [
    {
     "data": {
      "text/plain": [
       "'3l10wYDlq90'"
      ]
     },
     "execution_count": 32,
     "metadata": {},
     "output_type": "execute_result"
    }
   ],
   "source": [
    "# Get video statistics\n",
    "\n",
    "# 1. Get video ID\n",
    "v_id = videos[0]['snippet']['resourceId']['videoId']\n",
    "v_id"
   ]
  },
  {
   "cell_type": "code",
   "execution_count": 33,
   "metadata": {},
   "outputs": [
    {
     "data": {
      "text/plain": [
       "[{'kind': 'youtube#video',\n",
       "  'etag': '\"XpPGQXPnxQJhLgs6enD_n8JR4Qk/2_BOW5IaXim2C6LzvPT9vYCfC10\"',\n",
       "  'id': '3l10wYDlq90',\n",
       "  'statistics': {'viewCount': '1067888',\n",
       "   'likeCount': '15709',\n",
       "   'dislikeCount': '1617',\n",
       "   'favoriteCount': '0',\n",
       "   'commentCount': '600'}}]"
      ]
     },
     "execution_count": 33,
     "metadata": {},
     "output_type": "execute_result"
    }
   ],
   "source": [
    "# 2. Get video stats by ID\n",
    "v_stats = youtube.videos().list(id=v_id,\n",
    "                               part='statistics').execute()\n",
    "v_stats['items']"
   ]
  },
  {
   "cell_type": "code",
   "execution_count": 35,
   "metadata": {},
   "outputs": [
    {
     "data": {
      "text/plain": [
       "{'kind': 'youtube#videoListResponse',\n",
       " 'etag': '\"XpPGQXPnxQJhLgs6enD_n8JR4Qk/8PidPWYPEOJOGSXcTpZ8pdE-Qpw\"',\n",
       " 'pageInfo': {'totalResults': 1, 'resultsPerPage': 1},\n",
       " 'items': [{'kind': 'youtube#video',\n",
       "   'etag': '\"XpPGQXPnxQJhLgs6enD_n8JR4Qk/f-odicwe8gfRCf4Xdbrfn8K7AIc\"',\n",
       "   'id': '3l10wYDlq90',\n",
       "   'snippet': {'publishedAt': '2019-02-16T17:49:20.000Z',\n",
       "    'channelId': 'UC295-Dw_tDNtZXFeAPAW6Aw',\n",
       "    'title': '99 GREAT IDEAS FOR A PARTY',\n",
       "    'description': 'Best ideas for splendid reunion with your friend! \\nEveryone will be happy! 🎉\\n\\nMusic by Epidemic Sound: https://www.epidemicsound.com/.\\n\\n\\n\\n---------------------------------------------------------------------------------------- \\n\\nOur Social Media: \\nFacebook: https://www.facebook.com/5min.crafts/ \\nInstagram: https://www.instagram.com/5.min.crafts/ \\nTwitter: https://twitter.com/5m_crafts \\n\\nSubscribe to 5-Minute MAGIC: http://bit.ly/2ldditZ \\nSubscribe to 5-Minute Crafts GIRLY: https://goo.gl/fWbJqz \\nSubscribe 5-Minute Crafts KIDS: https://goo.gl/PEuLVt \\nThe Bright Side of Youtube: https://goo.gl/rQTJZz \\n\\n---------------------------------------------------------------------------------------- \\n\\nFor more videos and articles visit: http://www.brightside.me/\\n\\n Music by Epidemic Sound: https://www.epidemicsound.com/',\n",
       "    'thumbnails': {'default': {'url': 'https://i.ytimg.com/vi/3l10wYDlq90/default.jpg',\n",
       "      'width': 120,\n",
       "      'height': 90},\n",
       "     'medium': {'url': 'https://i.ytimg.com/vi/3l10wYDlq90/mqdefault.jpg',\n",
       "      'width': 320,\n",
       "      'height': 180},\n",
       "     'high': {'url': 'https://i.ytimg.com/vi/3l10wYDlq90/hqdefault.jpg',\n",
       "      'width': 480,\n",
       "      'height': 360}},\n",
       "    'channelTitle': '5-Minute Crafts',\n",
       "    'tags': ['5-Minute Crafts',\n",
       "     '5 minutes craft',\n",
       "     'life hacks',\n",
       "     'easy life hacks',\n",
       "     'craft',\n",
       "     'crafts',\n",
       "     'tutorial',\n",
       "     'handmade',\n",
       "     'party',\n",
       "     'party hacks',\n",
       "     'ice',\n",
       "     'date',\n",
       "     'crafting hacks',\n",
       "     'balloon',\n",
       "     'double balloon',\n",
       "     'easy recipes',\n",
       "     'simple recipes',\n",
       "     'quick recipes',\n",
       "     'friend',\n",
       "     'friends',\n",
       "     'chocolate',\n",
       "     'soda',\n",
       "     'cola',\n",
       "     'coca-cola',\n",
       "     'pepsi',\n",
       "     'DIY speakers'],\n",
       "    'categoryId': '26',\n",
       "    'liveBroadcastContent': 'none',\n",
       "    'localized': {'title': '99 GREAT IDEAS FOR A PARTY',\n",
       "     'description': 'Best ideas for splendid reunion with your friend! \\nEveryone will be happy! 🎉\\n\\nMusic by Epidemic Sound: https://www.epidemicsound.com/.\\n\\n\\n\\n---------------------------------------------------------------------------------------- \\n\\nOur Social Media: \\nFacebook: https://www.facebook.com/5min.crafts/ \\nInstagram: https://www.instagram.com/5.min.crafts/ \\nTwitter: https://twitter.com/5m_crafts \\n\\nSubscribe to 5-Minute MAGIC: http://bit.ly/2ldditZ \\nSubscribe to 5-Minute Crafts GIRLY: https://goo.gl/fWbJqz \\nSubscribe 5-Minute Crafts KIDS: https://goo.gl/PEuLVt \\nThe Bright Side of Youtube: https://goo.gl/rQTJZz \\n\\n---------------------------------------------------------------------------------------- \\n\\nFor more videos and articles visit: http://www.brightside.me/\\n\\n Music by Epidemic Sound: https://www.epidemicsound.com/'}}}]}"
      ]
     },
     "execution_count": 35,
     "metadata": {},
     "output_type": "execute_result"
    }
   ],
   "source": [
    "# Get video category ID\n",
    "res = youtube.videos().list(id=v_id,\n",
    "                               part=\"snippet\").execute()\n",
    "res"
   ]
  },
  {
   "cell_type": "code",
   "execution_count": 52,
   "metadata": {
    "scrolled": true
   },
   "outputs": [
    {
     "data": {
      "text/plain": [
       "['5-Minute Crafts',\n",
       " '5 minutes craft',\n",
       " 'life hacks',\n",
       " 'easy life hacks',\n",
       " 'craft',\n",
       " 'crafts',\n",
       " 'tutorial',\n",
       " 'handmade',\n",
       " 'party',\n",
       " 'party hacks',\n",
       " 'ice',\n",
       " 'date',\n",
       " 'crafting hacks',\n",
       " 'balloon',\n",
       " 'double balloon',\n",
       " 'easy recipes',\n",
       " 'simple recipes',\n",
       " 'quick recipes',\n",
       " 'friend',\n",
       " 'friends',\n",
       " 'chocolate',\n",
       " 'soda',\n",
       " 'cola',\n",
       " 'coca-cola',\n",
       " 'pepsi',\n",
       " 'DIY speakers']"
      ]
     },
     "execution_count": 52,
     "metadata": {},
     "output_type": "execute_result"
    }
   ],
   "source": [
    "# Video tags\n",
    "res[\"items\"][0]['snippet']['tags']"
   ]
  },
  {
   "cell_type": "code",
   "execution_count": 54,
   "metadata": {},
   "outputs": [
    {
     "data": {
      "text/plain": [
       "'26'"
      ]
     },
     "execution_count": 54,
     "metadata": {},
     "output_type": "execute_result"
    }
   ],
   "source": [
    "# Video category ID\n",
    "res[\"items\"][0]['snippet']['categoryId']"
   ]
  },
  {
   "cell_type": "code",
   "execution_count": 31,
   "metadata": {},
   "outputs": [
    {
     "data": {
      "text/plain": [
       "2735"
      ]
     },
     "execution_count": 31,
     "metadata": {},
     "output_type": "execute_result"
    }
   ],
   "source": [
    "# 3. Pass video IDs as a list \n",
    "\n",
    "# get a list of all video ids from videos\n",
    "video_ids = list(map(lambda x:x['snippet']['resourceId']['videoId'], videos))\n",
    "video_ids[:10]\n",
    "len(video_ids)"
   ]
  },
  {
   "cell_type": "code",
   "execution_count": 70,
   "metadata": {},
   "outputs": [],
   "source": [
    "def get_videos_stats(video_ids):\n",
    "    stats = []\n",
    "    for i in range(0, len(video_ids), 50):\n",
    "        res = youtube.videos().list(id=','.join(video_ids[i:i+50]),\n",
    "                                   part='statistics').execute()\n",
    "        stats += [res['items'][0]['statistics']]\n",
    "        \n",
    "    return stats"
   ]
  },
  {
   "cell_type": "code",
   "execution_count": 71,
   "metadata": {},
   "outputs": [],
   "source": [
    "def get_videos_categoryID(video_ids):\n",
    "    categoryIDs = []\n",
    "    for i in range(0, len(video_ids), 50):\n",
    "        res = youtube.videos().list(id=','.join(video_ids[i:i+50]),\n",
    "                                   part='snippet').execute()\n",
    "        categoryIDs += [res['items'][0]['snippet']['categoryId']]\n",
    "        \n",
    "    return categoryIDs"
   ]
  },
  {
   "cell_type": "code",
   "execution_count": 72,
   "metadata": {},
   "outputs": [],
   "source": [
    "def get_videos_tags(video_ids):\n",
    "    tags = []\n",
    "    for i in range(0, len(video_ids), 50):\n",
    "        res = youtube.videos().list(id=','.join(video_ids[i:i+50]),\n",
    "                                   part='snippet').execute()\n",
    "        tags += [res['items'][0]['snippet']['tags']]\n",
    "        \n",
    "    return tags"
   ]
  },
  {
   "cell_type": "code",
   "execution_count": 73,
   "metadata": {},
   "outputs": [],
   "source": [
    "videos_stats = get_videos_stats(video_ids)\n",
    "video_tags = get_videos_tags(video_ids)\n",
    "video_categoryID = get_videos_categoryID(video_ids)"
   ]
  },
  {
   "cell_type": "code",
   "execution_count": 74,
   "metadata": {},
   "outputs": [
    {
     "name": "stdout",
     "output_type": "stream",
     "text": [
      "55\n",
      "55\n",
      "55\n"
     ]
    }
   ],
   "source": [
    "print(len(videos_stats))\n",
    "print(len(video_tags))\n",
    "print(len(video_categoryID))"
   ]
  },
  {
   "cell_type": "code",
   "execution_count": 79,
   "metadata": {},
   "outputs": [
    {
     "data": {
      "text/plain": [
       "{'viewCount': '1068581',\n",
       " 'likeCount': '15715',\n",
       " 'dislikeCount': '1620',\n",
       " 'favoriteCount': '0',\n",
       " 'commentCount': '600'}"
      ]
     },
     "execution_count": 79,
     "metadata": {},
     "output_type": "execute_result"
    }
   ],
   "source": [
    "videos_stats[0]"
   ]
  },
  {
   "cell_type": "code",
   "execution_count": 77,
   "metadata": {},
   "outputs": [
    {
     "data": {
      "text/plain": [
       "['5-Minute Crafts',\n",
       " '5 minutes craft',\n",
       " 'life hacks',\n",
       " 'easy life hacks',\n",
       " 'craft',\n",
       " 'crafts',\n",
       " 'tutorial',\n",
       " 'handmade',\n",
       " 'party',\n",
       " 'party hacks',\n",
       " 'ice',\n",
       " 'date',\n",
       " 'crafting hacks',\n",
       " 'balloon',\n",
       " 'double balloon',\n",
       " 'easy recipes',\n",
       " 'simple recipes',\n",
       " 'quick recipes',\n",
       " 'friend',\n",
       " 'friends',\n",
       " 'chocolate',\n",
       " 'soda',\n",
       " 'cola',\n",
       " 'coca-cola',\n",
       " 'pepsi',\n",
       " 'DIY speakers']"
      ]
     },
     "execution_count": 77,
     "metadata": {},
     "output_type": "execute_result"
    }
   ],
   "source": [
    "video_tags[0]"
   ]
  },
  {
   "cell_type": "code",
   "execution_count": 80,
   "metadata": {},
   "outputs": [
    {
     "data": {
      "text/plain": [
       "['26',\n",
       " '26',\n",
       " '26',\n",
       " '26',\n",
       " '26',\n",
       " '26',\n",
       " '26',\n",
       " '26',\n",
       " '26',\n",
       " '26',\n",
       " '26',\n",
       " '26',\n",
       " '26',\n",
       " '26',\n",
       " '26',\n",
       " '26',\n",
       " '26',\n",
       " '26',\n",
       " '26',\n",
       " '26',\n",
       " '26',\n",
       " '26',\n",
       " '26',\n",
       " '26',\n",
       " '26',\n",
       " '26',\n",
       " '26',\n",
       " '26',\n",
       " '26',\n",
       " '26',\n",
       " '26',\n",
       " '26',\n",
       " '26',\n",
       " '26',\n",
       " '26',\n",
       " '26',\n",
       " '26',\n",
       " '26',\n",
       " '26',\n",
       " '26',\n",
       " '26',\n",
       " '26',\n",
       " '26',\n",
       " '26',\n",
       " '26',\n",
       " '26',\n",
       " '26',\n",
       " '26',\n",
       " '26',\n",
       " '26',\n",
       " '27',\n",
       " '26',\n",
       " '26',\n",
       " '26',\n",
       " '26']"
      ]
     },
     "execution_count": 80,
     "metadata": {},
     "output_type": "execute_result"
    }
   ],
   "source": [
    "video_categoryID"
   ]
  },
  {
   "cell_type": "code",
   "execution_count": null,
   "metadata": {},
   "outputs": [],
   "source": []
  }
 ],
 "metadata": {
  "kernelspec": {
   "display_name": "Python 3",
   "language": "python",
   "name": "python3"
  },
  "language_info": {
   "codemirror_mode": {
    "name": "ipython",
    "version": 3
   },
   "file_extension": ".py",
   "mimetype": "text/x-python",
   "name": "python",
   "nbconvert_exporter": "python",
   "pygments_lexer": "ipython3",
   "version": "3.7.0"
  }
 },
 "nbformat": 4,
 "nbformat_minor": 2
}
